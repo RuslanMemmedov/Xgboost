{
 "cells": [
  {
   "cell_type": "code",
   "execution_count": 1,
   "metadata": {},
   "outputs": [],
   "source": [
    "# Import Data Libraries\n",
    "import pandas as pd\n",
    "import numpy as np\n",
    "\n",
    "# Import Visualization Libraries\n",
    "import seaborn as sns\n",
    "import matplotlib.pyplot as plt\n",
    "%matplotlib inline"
   ]
  },
  {
   "cell_type": "markdown",
   "metadata": {},
   "source": [
    "# Importing the data"
   ]
  },
  {
   "cell_type": "code",
   "execution_count": 2,
   "metadata": {},
   "outputs": [],
   "source": [
    "\n",
    "\n",
    "\n",
    "# Read in the datasets\n",
    "train = pd.read_csv(\"train.csv\")\n",
    "test = pd.read_csv(\"test.csv\")\n",
    "\n",
    "# Drop ID columns\n",
    "train.drop(columns=\"Id\", axis=1, inplace=True)\n",
    "test.drop(columns=\"Id\", axis=1, inplace=True)"
   ]
  },
  {
   "cell_type": "code",
   "execution_count": 3,
   "metadata": {},
   "outputs": [
    {
     "name": "stdout",
     "output_type": "stream",
     "text": [
      "Train shape: (1460, 80)\n",
      "Test shape: (1459, 79)\n"
     ]
    },
    {
     "data": {
      "text/html": [
       "<div>\n",
       "<style scoped>\n",
       "    .dataframe tbody tr th:only-of-type {\n",
       "        vertical-align: middle;\n",
       "    }\n",
       "\n",
       "    .dataframe tbody tr th {\n",
       "        vertical-align: top;\n",
       "    }\n",
       "\n",
       "    .dataframe thead th {\n",
       "        text-align: right;\n",
       "    }\n",
       "</style>\n",
       "<table border=\"1\" class=\"dataframe\">\n",
       "  <thead>\n",
       "    <tr style=\"text-align: right;\">\n",
       "      <th></th>\n",
       "      <th>MSSubClass</th>\n",
       "      <th>MSZoning</th>\n",
       "      <th>LotFrontage</th>\n",
       "      <th>LotArea</th>\n",
       "      <th>Street</th>\n",
       "      <th>Alley</th>\n",
       "      <th>LotShape</th>\n",
       "      <th>LandContour</th>\n",
       "      <th>Utilities</th>\n",
       "      <th>LotConfig</th>\n",
       "      <th>...</th>\n",
       "      <th>PoolArea</th>\n",
       "      <th>PoolQC</th>\n",
       "      <th>Fence</th>\n",
       "      <th>MiscFeature</th>\n",
       "      <th>MiscVal</th>\n",
       "      <th>MoSold</th>\n",
       "      <th>YrSold</th>\n",
       "      <th>SaleType</th>\n",
       "      <th>SaleCondition</th>\n",
       "      <th>SalePrice</th>\n",
       "    </tr>\n",
       "  </thead>\n",
       "  <tbody>\n",
       "    <tr>\n",
       "      <th>0</th>\n",
       "      <td>60</td>\n",
       "      <td>RL</td>\n",
       "      <td>65.0</td>\n",
       "      <td>8450</td>\n",
       "      <td>Pave</td>\n",
       "      <td>NaN</td>\n",
       "      <td>Reg</td>\n",
       "      <td>Lvl</td>\n",
       "      <td>AllPub</td>\n",
       "      <td>Inside</td>\n",
       "      <td>...</td>\n",
       "      <td>0</td>\n",
       "      <td>NaN</td>\n",
       "      <td>NaN</td>\n",
       "      <td>NaN</td>\n",
       "      <td>0</td>\n",
       "      <td>2</td>\n",
       "      <td>2008</td>\n",
       "      <td>WD</td>\n",
       "      <td>Normal</td>\n",
       "      <td>208500</td>\n",
       "    </tr>\n",
       "    <tr>\n",
       "      <th>1</th>\n",
       "      <td>20</td>\n",
       "      <td>RL</td>\n",
       "      <td>80.0</td>\n",
       "      <td>9600</td>\n",
       "      <td>Pave</td>\n",
       "      <td>NaN</td>\n",
       "      <td>Reg</td>\n",
       "      <td>Lvl</td>\n",
       "      <td>AllPub</td>\n",
       "      <td>FR2</td>\n",
       "      <td>...</td>\n",
       "      <td>0</td>\n",
       "      <td>NaN</td>\n",
       "      <td>NaN</td>\n",
       "      <td>NaN</td>\n",
       "      <td>0</td>\n",
       "      <td>5</td>\n",
       "      <td>2007</td>\n",
       "      <td>WD</td>\n",
       "      <td>Normal</td>\n",
       "      <td>181500</td>\n",
       "    </tr>\n",
       "    <tr>\n",
       "      <th>2</th>\n",
       "      <td>60</td>\n",
       "      <td>RL</td>\n",
       "      <td>68.0</td>\n",
       "      <td>11250</td>\n",
       "      <td>Pave</td>\n",
       "      <td>NaN</td>\n",
       "      <td>IR1</td>\n",
       "      <td>Lvl</td>\n",
       "      <td>AllPub</td>\n",
       "      <td>Inside</td>\n",
       "      <td>...</td>\n",
       "      <td>0</td>\n",
       "      <td>NaN</td>\n",
       "      <td>NaN</td>\n",
       "      <td>NaN</td>\n",
       "      <td>0</td>\n",
       "      <td>9</td>\n",
       "      <td>2008</td>\n",
       "      <td>WD</td>\n",
       "      <td>Normal</td>\n",
       "      <td>223500</td>\n",
       "    </tr>\n",
       "    <tr>\n",
       "      <th>3</th>\n",
       "      <td>70</td>\n",
       "      <td>RL</td>\n",
       "      <td>60.0</td>\n",
       "      <td>9550</td>\n",
       "      <td>Pave</td>\n",
       "      <td>NaN</td>\n",
       "      <td>IR1</td>\n",
       "      <td>Lvl</td>\n",
       "      <td>AllPub</td>\n",
       "      <td>Corner</td>\n",
       "      <td>...</td>\n",
       "      <td>0</td>\n",
       "      <td>NaN</td>\n",
       "      <td>NaN</td>\n",
       "      <td>NaN</td>\n",
       "      <td>0</td>\n",
       "      <td>2</td>\n",
       "      <td>2006</td>\n",
       "      <td>WD</td>\n",
       "      <td>Abnorml</td>\n",
       "      <td>140000</td>\n",
       "    </tr>\n",
       "    <tr>\n",
       "      <th>4</th>\n",
       "      <td>60</td>\n",
       "      <td>RL</td>\n",
       "      <td>84.0</td>\n",
       "      <td>14260</td>\n",
       "      <td>Pave</td>\n",
       "      <td>NaN</td>\n",
       "      <td>IR1</td>\n",
       "      <td>Lvl</td>\n",
       "      <td>AllPub</td>\n",
       "      <td>FR2</td>\n",
       "      <td>...</td>\n",
       "      <td>0</td>\n",
       "      <td>NaN</td>\n",
       "      <td>NaN</td>\n",
       "      <td>NaN</td>\n",
       "      <td>0</td>\n",
       "      <td>12</td>\n",
       "      <td>2008</td>\n",
       "      <td>WD</td>\n",
       "      <td>Normal</td>\n",
       "      <td>250000</td>\n",
       "    </tr>\n",
       "  </tbody>\n",
       "</table>\n",
       "<p>5 rows × 80 columns</p>\n",
       "</div>"
      ],
      "text/plain": [
       "   MSSubClass MSZoning  LotFrontage  LotArea Street Alley LotShape  \\\n",
       "0          60       RL         65.0     8450   Pave   NaN      Reg   \n",
       "1          20       RL         80.0     9600   Pave   NaN      Reg   \n",
       "2          60       RL         68.0    11250   Pave   NaN      IR1   \n",
       "3          70       RL         60.0     9550   Pave   NaN      IR1   \n",
       "4          60       RL         84.0    14260   Pave   NaN      IR1   \n",
       "\n",
       "  LandContour Utilities LotConfig  ... PoolArea PoolQC Fence MiscFeature  \\\n",
       "0         Lvl    AllPub    Inside  ...        0    NaN   NaN         NaN   \n",
       "1         Lvl    AllPub       FR2  ...        0    NaN   NaN         NaN   \n",
       "2         Lvl    AllPub    Inside  ...        0    NaN   NaN         NaN   \n",
       "3         Lvl    AllPub    Corner  ...        0    NaN   NaN         NaN   \n",
       "4         Lvl    AllPub       FR2  ...        0    NaN   NaN         NaN   \n",
       "\n",
       "  MiscVal MoSold  YrSold  SaleType  SaleCondition  SalePrice  \n",
       "0       0      2    2008        WD         Normal     208500  \n",
       "1       0      5    2007        WD         Normal     181500  \n",
       "2       0      9    2008        WD         Normal     223500  \n",
       "3       0      2    2006        WD        Abnorml     140000  \n",
       "4       0     12    2008        WD         Normal     250000  \n",
       "\n",
       "[5 rows x 80 columns]"
      ]
     },
     "execution_count": 3,
     "metadata": {},
     "output_type": "execute_result"
    }
   ],
   "source": [
    "# Explore the format\n",
    "print(\"Train shape: {}\".format(train.shape))\n",
    "print(\"Test shape: {}\".format(test.shape))\n",
    "\n",
    "# Explore the head of the dataframe\n",
    "train.head()"
   ]
  },
  {
   "cell_type": "code",
   "execution_count": 4,
   "metadata": {},
   "outputs": [
    {
     "data": {
      "text/html": [
       "<div>\n",
       "<style scoped>\n",
       "    .dataframe tbody tr th:only-of-type {\n",
       "        vertical-align: middle;\n",
       "    }\n",
       "\n",
       "    .dataframe tbody tr th {\n",
       "        vertical-align: top;\n",
       "    }\n",
       "\n",
       "    .dataframe thead th {\n",
       "        text-align: right;\n",
       "    }\n",
       "</style>\n",
       "<table border=\"1\" class=\"dataframe\">\n",
       "  <thead>\n",
       "    <tr style=\"text-align: right;\">\n",
       "      <th></th>\n",
       "      <th>MSSubClass</th>\n",
       "      <th>MSZoning</th>\n",
       "      <th>LotFrontage</th>\n",
       "      <th>LotArea</th>\n",
       "      <th>Street</th>\n",
       "      <th>Alley</th>\n",
       "      <th>LotShape</th>\n",
       "      <th>LandContour</th>\n",
       "      <th>Utilities</th>\n",
       "      <th>LotConfig</th>\n",
       "      <th>...</th>\n",
       "      <th>ScreenPorch</th>\n",
       "      <th>PoolArea</th>\n",
       "      <th>PoolQC</th>\n",
       "      <th>Fence</th>\n",
       "      <th>MiscFeature</th>\n",
       "      <th>MiscVal</th>\n",
       "      <th>MoSold</th>\n",
       "      <th>YrSold</th>\n",
       "      <th>SaleType</th>\n",
       "      <th>SaleCondition</th>\n",
       "    </tr>\n",
       "  </thead>\n",
       "  <tbody>\n",
       "    <tr>\n",
       "      <th>0</th>\n",
       "      <td>20</td>\n",
       "      <td>RH</td>\n",
       "      <td>80.0</td>\n",
       "      <td>11622</td>\n",
       "      <td>Pave</td>\n",
       "      <td>NaN</td>\n",
       "      <td>Reg</td>\n",
       "      <td>Lvl</td>\n",
       "      <td>AllPub</td>\n",
       "      <td>Inside</td>\n",
       "      <td>...</td>\n",
       "      <td>120</td>\n",
       "      <td>0</td>\n",
       "      <td>NaN</td>\n",
       "      <td>MnPrv</td>\n",
       "      <td>NaN</td>\n",
       "      <td>0</td>\n",
       "      <td>6</td>\n",
       "      <td>2010</td>\n",
       "      <td>WD</td>\n",
       "      <td>Normal</td>\n",
       "    </tr>\n",
       "    <tr>\n",
       "      <th>1</th>\n",
       "      <td>20</td>\n",
       "      <td>RL</td>\n",
       "      <td>81.0</td>\n",
       "      <td>14267</td>\n",
       "      <td>Pave</td>\n",
       "      <td>NaN</td>\n",
       "      <td>IR1</td>\n",
       "      <td>Lvl</td>\n",
       "      <td>AllPub</td>\n",
       "      <td>Corner</td>\n",
       "      <td>...</td>\n",
       "      <td>0</td>\n",
       "      <td>0</td>\n",
       "      <td>NaN</td>\n",
       "      <td>NaN</td>\n",
       "      <td>Gar2</td>\n",
       "      <td>12500</td>\n",
       "      <td>6</td>\n",
       "      <td>2010</td>\n",
       "      <td>WD</td>\n",
       "      <td>Normal</td>\n",
       "    </tr>\n",
       "    <tr>\n",
       "      <th>2</th>\n",
       "      <td>60</td>\n",
       "      <td>RL</td>\n",
       "      <td>74.0</td>\n",
       "      <td>13830</td>\n",
       "      <td>Pave</td>\n",
       "      <td>NaN</td>\n",
       "      <td>IR1</td>\n",
       "      <td>Lvl</td>\n",
       "      <td>AllPub</td>\n",
       "      <td>Inside</td>\n",
       "      <td>...</td>\n",
       "      <td>0</td>\n",
       "      <td>0</td>\n",
       "      <td>NaN</td>\n",
       "      <td>MnPrv</td>\n",
       "      <td>NaN</td>\n",
       "      <td>0</td>\n",
       "      <td>3</td>\n",
       "      <td>2010</td>\n",
       "      <td>WD</td>\n",
       "      <td>Normal</td>\n",
       "    </tr>\n",
       "    <tr>\n",
       "      <th>3</th>\n",
       "      <td>60</td>\n",
       "      <td>RL</td>\n",
       "      <td>78.0</td>\n",
       "      <td>9978</td>\n",
       "      <td>Pave</td>\n",
       "      <td>NaN</td>\n",
       "      <td>IR1</td>\n",
       "      <td>Lvl</td>\n",
       "      <td>AllPub</td>\n",
       "      <td>Inside</td>\n",
       "      <td>...</td>\n",
       "      <td>0</td>\n",
       "      <td>0</td>\n",
       "      <td>NaN</td>\n",
       "      <td>NaN</td>\n",
       "      <td>NaN</td>\n",
       "      <td>0</td>\n",
       "      <td>6</td>\n",
       "      <td>2010</td>\n",
       "      <td>WD</td>\n",
       "      <td>Normal</td>\n",
       "    </tr>\n",
       "    <tr>\n",
       "      <th>4</th>\n",
       "      <td>120</td>\n",
       "      <td>RL</td>\n",
       "      <td>43.0</td>\n",
       "      <td>5005</td>\n",
       "      <td>Pave</td>\n",
       "      <td>NaN</td>\n",
       "      <td>IR1</td>\n",
       "      <td>HLS</td>\n",
       "      <td>AllPub</td>\n",
       "      <td>Inside</td>\n",
       "      <td>...</td>\n",
       "      <td>144</td>\n",
       "      <td>0</td>\n",
       "      <td>NaN</td>\n",
       "      <td>NaN</td>\n",
       "      <td>NaN</td>\n",
       "      <td>0</td>\n",
       "      <td>1</td>\n",
       "      <td>2010</td>\n",
       "      <td>WD</td>\n",
       "      <td>Normal</td>\n",
       "    </tr>\n",
       "  </tbody>\n",
       "</table>\n",
       "<p>5 rows × 79 columns</p>\n",
       "</div>"
      ],
      "text/plain": [
       "   MSSubClass MSZoning  LotFrontage  LotArea Street Alley LotShape  \\\n",
       "0          20       RH         80.0    11622   Pave   NaN      Reg   \n",
       "1          20       RL         81.0    14267   Pave   NaN      IR1   \n",
       "2          60       RL         74.0    13830   Pave   NaN      IR1   \n",
       "3          60       RL         78.0     9978   Pave   NaN      IR1   \n",
       "4         120       RL         43.0     5005   Pave   NaN      IR1   \n",
       "\n",
       "  LandContour Utilities LotConfig  ... ScreenPorch PoolArea PoolQC  Fence  \\\n",
       "0         Lvl    AllPub    Inside  ...         120        0    NaN  MnPrv   \n",
       "1         Lvl    AllPub    Corner  ...           0        0    NaN    NaN   \n",
       "2         Lvl    AllPub    Inside  ...           0        0    NaN  MnPrv   \n",
       "3         Lvl    AllPub    Inside  ...           0        0    NaN    NaN   \n",
       "4         HLS    AllPub    Inside  ...         144        0    NaN    NaN   \n",
       "\n",
       "  MiscFeature MiscVal  MoSold  YrSold  SaleType  SaleCondition  \n",
       "0         NaN       0       6    2010        WD         Normal  \n",
       "1        Gar2   12500       6    2010        WD         Normal  \n",
       "2         NaN       0       3    2010        WD         Normal  \n",
       "3         NaN       0       6    2010        WD         Normal  \n",
       "4         NaN       0       1    2010        WD         Normal  \n",
       "\n",
       "[5 rows x 79 columns]"
      ]
     },
     "execution_count": 4,
     "metadata": {},
     "output_type": "execute_result"
    }
   ],
   "source": [
    "test.head()"
   ]
  },
  {
   "cell_type": "code",
   "execution_count": 5,
   "metadata": {},
   "outputs": [],
   "source": [
    "\n",
    "# train.dtypes          # check the datatypes of the columns\n",
    "# train.columns         # check name of columns\n",
    "# train.shape           # check the shape of the columns\n",
    "# train.isna().sum()    # check how much missing data in each column"
   ]
  },
  {
   "cell_type": "code",
   "execution_count": 6,
   "metadata": {},
   "outputs": [
    {
     "data": {
      "text/plain": [
       "Index(['MSSubClass', 'MSZoning', 'LotFrontage', 'LotArea', 'Street', 'Alley',\n",
       "       'LotShape', 'LandContour', 'Utilities', 'LotConfig', 'LandSlope',\n",
       "       'Neighborhood', 'Condition1', 'Condition2', 'BldgType', 'HouseStyle',\n",
       "       'OverallQual', 'OverallCond', 'YearBuilt', 'YearRemodAdd', 'RoofStyle',\n",
       "       'RoofMatl', 'Exterior1st', 'Exterior2nd', 'MasVnrType', 'MasVnrArea',\n",
       "       'ExterQual', 'ExterCond', 'Foundation', 'BsmtQual', 'BsmtCond',\n",
       "       'BsmtExposure', 'BsmtFinType1', 'BsmtFinSF1', 'BsmtFinType2',\n",
       "       'BsmtFinSF2', 'BsmtUnfSF', 'TotalBsmtSF', 'Heating', 'HeatingQC',\n",
       "       'CentralAir', 'Electrical', '1stFlrSF', '2ndFlrSF', 'LowQualFinSF',\n",
       "       'GrLivArea', 'BsmtFullBath', 'BsmtHalfBath', 'FullBath', 'HalfBath',\n",
       "       'BedroomAbvGr', 'KitchenAbvGr', 'KitchenQual', 'TotRmsAbvGrd',\n",
       "       'Functional', 'Fireplaces', 'FireplaceQu', 'GarageType', 'GarageYrBlt',\n",
       "       'GarageFinish', 'GarageCars', 'GarageArea', 'GarageQual', 'GarageCond',\n",
       "       'PavedDrive', 'WoodDeckSF', 'OpenPorchSF', 'EnclosedPorch', '3SsnPorch',\n",
       "       'ScreenPorch', 'PoolArea', 'PoolQC', 'Fence', 'MiscFeature', 'MiscVal',\n",
       "       'MoSold', 'YrSold', 'SaleType', 'SaleCondition', 'SalePrice'],\n",
       "      dtype='object')"
      ]
     },
     "execution_count": 6,
     "metadata": {},
     "output_type": "execute_result"
    }
   ],
   "source": [
    "train.columns"
   ]
  },
  {
   "cell_type": "code",
   "execution_count": 7,
   "metadata": {},
   "outputs": [],
   "source": [
    "# Leaked columns\n",
    "leaked_columns = ['MoSold', 'YrSold', 'SaleType', 'SaleCondition']\n",
    "\n",
    "# Remove in BOTH datasets\n",
    "train.drop(labels = leaked_columns, axis = 1, inplace = True)\n",
    "test.drop(labels = leaked_columns, axis = 1, inplace= True)"
   ]
  },
  {
   "cell_type": "markdown",
   "metadata": {},
   "source": [
    "# Data Preprocessing \n",
    "\n"
   ]
  },
  {
   "cell_type": "code",
   "execution_count": 9,
   "metadata": {},
   "outputs": [
    {
     "data": {
      "text/plain": [
       "MSSubClass       int64\n",
       "MSZoning        object\n",
       "LotFrontage    float64\n",
       "LotArea          int64\n",
       "Street          object\n",
       "                ...   \n",
       "PoolQC          object\n",
       "Fence           object\n",
       "MiscFeature     object\n",
       "MiscVal          int64\n",
       "SalePrice        int64\n",
       "Length: 76, dtype: object"
      ]
     },
     "execution_count": 9,
     "metadata": {},
     "output_type": "execute_result"
    }
   ],
   "source": [
    "# Check the data types of the columns\n",
    "train.dtypes"
   ]
  },
  {
   "cell_type": "markdown",
   "metadata": {},
   "source": [
    "### Target column"
   ]
  },
  {
   "cell_type": "code",
   "execution_count": 10,
   "metadata": {},
   "outputs": [
    {
     "data": {
      "text/plain": [
       "0"
      ]
     },
     "execution_count": 10,
     "metadata": {},
     "output_type": "execute_result"
    }
   ],
   "source": [
    "# Check for missing values in the target column\n",
    "train[\"SalePrice\"].isna().sum()"
   ]
  },
  {
   "cell_type": "code",
   "execution_count": 11,
   "metadata": {},
   "outputs": [
    {
     "name": "stderr",
     "output_type": "stream",
     "text": [
      "C:\\ProgramData\\Anaconda3\\lib\\site-packages\\seaborn\\distributions.py:2619: FutureWarning: `distplot` is a deprecated function and will be removed in a future version. Please adapt your code to use either `displot` (a figure-level function with similar flexibility) or `histplot` (an axes-level function for histograms).\n",
      "  warnings.warn(msg, FutureWarning)\n"
     ]
    },
    {
     "data": {
      "image/png": "[encoded data removed]",
      "text/plain": [
       "<Figure size 1152x288 with 1 Axes>"
      ]
     },
     "metadata": {
      "needs_background": "light"
     },
     "output_type": "display_data"
    }
   ],
   "source": [
    "# Plot of the target column\n",
    "plt.figure(figsize = (16, 4))\n",
    "sns.distplot(a = train[\"SalePrice\"], color = \"#FF7F50\")\n",
    "plt.title(\"Distribution of Sales Price\", fontsize=16);"
   ]
  },
  {
   "cell_type": "code",
   "execution_count": 12,
   "metadata": {},
   "outputs": [],
   "source": [
    "# Storing the target variable separately\n",
    "y = train[\"SalePrice\"]\n",
    "train.drop(columns=[\"SalePrice\"], axis=1, inplace=True)"
   ]
  },
  {
   "cell_type": "markdown",
   "metadata": {},
   "source": [
    "### #II. Numerical Data\n",
    "\n",
    "> Numerical columns are the ones that are of type `int` or `float`."
   ]
  },
  {
   "cell_type": "code",
   "execution_count": 13,
   "metadata": {},
   "outputs": [],
   "source": [
    "# Select ONLY numerical columns\n",
    "numerical_cols = [col for col in train.columns if \n",
    "                  train[col].dtype in [\"int64\", \"float64\"]]"
   ]
  },
  {
   "cell_type": "markdown",
   "metadata": {},
   "source": [
    "Let's see if there are any missing values between these columns."
   ]
  },
  {
   "cell_type": "code",
   "execution_count": 14,
   "metadata": {},
   "outputs": [
    {
     "data": {
      "text/plain": [
       "LotFrontage    259\n",
       "MasVnrArea       8\n",
       "GarageYrBlt     81\n",
       "dtype: int64"
      ]
     },
     "execution_count": 14,
     "metadata": {},
     "output_type": "execute_result"
    }
   ],
   "source": [
    "# Find the columns that have null values\n",
    "na_count_n = train[numerical_cols].isna().sum()   # this becomes a Pandas Series\n",
    "na_count_n[na_count_n > 0]                          # filter"
   ]
  },
  {
   "cell_type": "code",
   "execution_count": 15,
   "metadata": {},
   "outputs": [
    {
     "name": "stderr",
     "output_type": "stream",
     "text": [
      "C:\\ProgramData\\Anaconda3\\lib\\site-packages\\seaborn\\distributions.py:2619: FutureWarning: `distplot` is a deprecated function and will be removed in a future version. Please adapt your code to use either `displot` (a figure-level function with similar flexibility) or `histplot` (an axes-level function for histograms).\n",
      "  warnings.warn(msg, FutureWarning)\n"
     ]
    },
    {
     "data": {
      "image/png": "[encoded data removed]",
      "text/plain": [
       "<Figure size 1152x288 with 1 Axes>"
      ]
     },
     "metadata": {
      "needs_background": "light"
     },
     "output_type": "display_data"
    }
   ],
   "source": [
    "# Select columns with NAs\n",
    "na_numeric_columns = na_count_n[na_count_n > 0].index\n",
    "na_numeric_data = train[na_numeric_columns].dropna(axis=0)\n",
    "\n",
    "\n",
    "\n",
    "plt.figure(figsize = (16, 4))\n",
    "sns.distplot(a = na_numeric_data[na_numeric_columns[0]], color = \"blue\")\n",
    "plt.title(f\"{na_numeric_columns[0]}\", fontsize=16);"
   ]
  },
  {
   "cell_type": "code",
   "execution_count": 16,
   "metadata": {},
   "outputs": [
    {
     "name": "stderr",
     "output_type": "stream",
     "text": [
      "C:\\ProgramData\\Anaconda3\\lib\\site-packages\\seaborn\\distributions.py:2619: FutureWarning: `distplot` is a deprecated function and will be removed in a future version. Please adapt your code to use either `displot` (a figure-level function with similar flexibility) or `histplot` (an axes-level function for histograms).\n",
      "  warnings.warn(msg, FutureWarning)\n"
     ]
    },
    {
     "data": {
      "image/png": "[encoded data removed]",
      "text/plain": [
       "<Figure size 1152x288 with 1 Axes>"
      ]
     },
     "metadata": {
      "needs_background": "light"
     },
     "output_type": "display_data"
    }
   ],
   "source": [
    "plt.figure(figsize = (16, 4))\n",
    "sns.distplot(a = na_numeric_data[na_numeric_columns[1]], color = \"purple\")\n",
    "plt.title(f\"{na_numeric_columns[1]}\", fontsize=16);"
   ]
  },
  {
   "cell_type": "code",
   "execution_count": 17,
   "metadata": {},
   "outputs": [
    {
     "name": "stderr",
     "output_type": "stream",
     "text": [
      "C:\\ProgramData\\Anaconda3\\lib\\site-packages\\seaborn\\distributions.py:2619: FutureWarning: `distplot` is a deprecated function and will be removed in a future version. Please adapt your code to use either `displot` (a figure-level function with similar flexibility) or `histplot` (an axes-level function for histograms).\n",
      "  warnings.warn(msg, FutureWarning)\n"
     ]
    },
    {
     "data": {
      "image/png": "[encoded data removed]",
      "text/plain": [
       "<Figure size 1152x288 with 1 Axes>"
      ]
     },
     "metadata": {
      "needs_background": "light"
     },
     "output_type": "display_data"
    }
   ],
   "source": [
    "plt.figure(figsize = (16, 4))\n",
    "sns.distplot(a = na_numeric_data[na_numeric_columns[2]], color = \"orange\")\n",
    "plt.title(f\"{na_numeric_columns[2]}\", fontsize=16);"
   ]
  },
  {
   "cell_type": "code",
   "execution_count": 18,
   "metadata": {},
   "outputs": [],
   "source": [
    "# Import Simple Imputer and from SkLearn\n",
    "from sklearn.impute import SimpleImputer"
   ]
  },
  {
   "cell_type": "code",
   "execution_count": 19,
   "metadata": {},
   "outputs": [],
   "source": [
    "# Prepare the Imputation Objects\n",
    "median_impute = SimpleImputer(strategy = 'median')\n",
    "mode_impute = SimpleImputer(strategy = 'most_frequent')\n",
    "mean_impute = SimpleImputer(strategy = 'mean')"
   ]
  },
  {
   "cell_type": "code",
   "execution_count": 20,
   "metadata": {},
   "outputs": [],
   "source": [
    "def apply_imputation(impute_object, column):\n",
    "    '''Function that applies the imputation to the desired column.\n",
    "    Returns the values for train and test.'''\n",
    "\n",
    "    \n",
    "    imputed_train = impute_object.fit_transform(X = train[[column]])\n",
    "    imputed_test = impute_object.transform(X = test[[column]])\n",
    "    \n",
    "    return imputed_train, imputed_test"
   ]
  },
  {
   "cell_type": "code",
   "execution_count": 21,
   "metadata": {},
   "outputs": [],
   "source": [
    "# Make the Imputation\n",
    "train['LotFrontage'] = apply_imputation(median_impute, 'LotFrontage')[0]\n",
    "test['LotFrontage'] = apply_imputation(median_impute, 'LotFrontage')[1]\n",
    "\n",
    "train['MasVnrArea'] = apply_imputation(mode_impute, 'MasVnrArea')[0]\n",
    "test['MasVnrArea'] = apply_imputation(mode_impute, 'MasVnrArea')[1]\n",
    "\n",
    "train['GarageYrBlt'] = apply_imputation(mean_impute, 'GarageYrBlt')[0]\n",
    "test['GarageYrBlt'] = apply_imputation(mean_impute, 'GarageYrBlt')[1]"
   ]
  },
  {
   "cell_type": "code",
   "execution_count": 22,
   "metadata": {},
   "outputs": [],
   "source": [
    "# # Import the Standard Scaler\n",
    "# from sklearn.preprocessing import StandardScaler\n",
    "\n",
    "# # Scale the data\n",
    "# scaler = StandardScaler()\n",
    "# scaled_matrix_train = pd.DataFrame(scaler.fit_transform(train[numerical_cols]),\n",
    "#                                    columns=numerical_cols)\n",
    "# scaled_matrix_test = pd.DataFrame(scaler.transform(test[numerical_cols]),\n",
    "#                                    columns=numerical_cols)\n",
    "\n",
    "# # Erase old data and append scaled one\n",
    "# train.drop(columns=numerical_cols, axis=1, inplace=True)\n",
    "# test.drop(columns=numerical_cols, axis=1, inplace=True)\n",
    "\n",
    "# train = pd.concat([train, scaled_matrix_train], axis=1)\n",
    "# test = pd.concat([test, scaled_matrix_test], axis=1)"
   ]
  },
  {
   "cell_type": "markdown",
   "metadata": {},
   "source": [
    "# Categorical Data\n",
    "\n",
    "> Categorical data is the one stored in object datatypes."
   ]
  },
  {
   "cell_type": "code",
   "execution_count": 23,
   "metadata": {},
   "outputs": [],
   "source": [
    "# Select ONLY categorical columns\n",
    "categ_cols = [col for col in train.columns if \n",
    "              train[col].dtype in [\"object\"]]"
   ]
  },
  {
   "cell_type": "markdown",
   "metadata": {},
   "source": [
    "Let's see if there are any missing values between these columns."
   ]
  },
  {
   "cell_type": "code",
   "execution_count": 24,
   "metadata": {},
   "outputs": [
    {
     "data": {
      "text/plain": [
       "Alley           1369\n",
       "MasVnrType         8\n",
       "BsmtQual          37\n",
       "BsmtCond          37\n",
       "BsmtExposure      38\n",
       "BsmtFinType1      37\n",
       "BsmtFinType2      38\n",
       "Electrical         1\n",
       "FireplaceQu      690\n",
       "GarageType        81\n",
       "GarageFinish      81\n",
       "GarageQual        81\n",
       "GarageCond        81\n",
       "PoolQC          1453\n",
       "Fence           1179\n",
       "MiscFeature     1406\n",
       "dtype: int64"
      ]
     },
     "execution_count": 24,
     "metadata": {},
     "output_type": "execute_result"
    }
   ],
   "source": [
    "# Find the columns that have null values\n",
    "na_count_s = train[categ_cols].isna().sum()    \n",
    "na_count_s[na_count_s > 0]                       "
   ]
  },
  {
   "cell_type": "code",
   "execution_count": 25,
   "metadata": {},
   "outputs": [],
   "source": [
    "# Drop all columns with more than 50% missing data\n",
    "to_drop = na_count_s[na_count_s > train.shape[0]*0.5].index\n",
    "\n",
    "train.drop(labels=to_drop, axis=1, inplace=True)\n",
    "test.drop(labels=to_drop, axis=1, inplace=True)\n",
    "\n",
    "# Update the categ_cols\n",
    "categ_cols = list(set(categ_cols) - set(to_drop))"
   ]
  },
  {
   "cell_type": "markdown",
   "metadata": {},
   "source": [
    "Now all we have to do is **impute** the rest of the data and **encode** it (transform it from data type `object` to data type `int`)"
   ]
  },
  {
   "cell_type": "code",
   "execution_count": 26,
   "metadata": {},
   "outputs": [
    {
     "data": {
      "text/html": [
       "<div>\n",
       "<style scoped>\n",
       "    .dataframe tbody tr th:only-of-type {\n",
       "        vertical-align: middle;\n",
       "    }\n",
       "\n",
       "    .dataframe tbody tr th {\n",
       "        vertical-align: top;\n",
       "    }\n",
       "\n",
       "    .dataframe thead th {\n",
       "        text-align: right;\n",
       "    }\n",
       "</style>\n",
       "<table border=\"1\" class=\"dataframe\">\n",
       "  <thead>\n",
       "    <tr style=\"text-align: right;\">\n",
       "      <th></th>\n",
       "      <th>Street</th>\n",
       "      <th>Condition1</th>\n",
       "      <th>RoofStyle</th>\n",
       "      <th>Foundation</th>\n",
       "      <th>LandSlope</th>\n",
       "      <th>Utilities</th>\n",
       "      <th>Condition2</th>\n",
       "      <th>LotShape</th>\n",
       "      <th>ExterQual</th>\n",
       "      <th>KitchenQual</th>\n",
       "      <th>...</th>\n",
       "      <th>PavedDrive</th>\n",
       "      <th>LandContour</th>\n",
       "      <th>ExterCond</th>\n",
       "      <th>BldgType</th>\n",
       "      <th>MasVnrType</th>\n",
       "      <th>FireplaceQu</th>\n",
       "      <th>MSZoning</th>\n",
       "      <th>CentralAir</th>\n",
       "      <th>HouseStyle</th>\n",
       "      <th>GarageCond</th>\n",
       "    </tr>\n",
       "  </thead>\n",
       "  <tbody>\n",
       "    <tr>\n",
       "      <th>0</th>\n",
       "      <td>Pave</td>\n",
       "      <td>Norm</td>\n",
       "      <td>Gable</td>\n",
       "      <td>PConc</td>\n",
       "      <td>Gtl</td>\n",
       "      <td>AllPub</td>\n",
       "      <td>Norm</td>\n",
       "      <td>Reg</td>\n",
       "      <td>Gd</td>\n",
       "      <td>Gd</td>\n",
       "      <td>...</td>\n",
       "      <td>Y</td>\n",
       "      <td>Lvl</td>\n",
       "      <td>TA</td>\n",
       "      <td>1Fam</td>\n",
       "      <td>BrkFace</td>\n",
       "      <td>NaN</td>\n",
       "      <td>RL</td>\n",
       "      <td>Y</td>\n",
       "      <td>2Story</td>\n",
       "      <td>TA</td>\n",
       "    </tr>\n",
       "    <tr>\n",
       "      <th>1</th>\n",
       "      <td>Pave</td>\n",
       "      <td>Feedr</td>\n",
       "      <td>Gable</td>\n",
       "      <td>CBlock</td>\n",
       "      <td>Gtl</td>\n",
       "      <td>AllPub</td>\n",
       "      <td>Norm</td>\n",
       "      <td>Reg</td>\n",
       "      <td>TA</td>\n",
       "      <td>TA</td>\n",
       "      <td>...</td>\n",
       "      <td>Y</td>\n",
       "      <td>Lvl</td>\n",
       "      <td>TA</td>\n",
       "      <td>1Fam</td>\n",
       "      <td>None</td>\n",
       "      <td>TA</td>\n",
       "      <td>RL</td>\n",
       "      <td>Y</td>\n",
       "      <td>1Story</td>\n",
       "      <td>TA</td>\n",
       "    </tr>\n",
       "    <tr>\n",
       "      <th>2</th>\n",
       "      <td>Pave</td>\n",
       "      <td>Norm</td>\n",
       "      <td>Gable</td>\n",
       "      <td>PConc</td>\n",
       "      <td>Gtl</td>\n",
       "      <td>AllPub</td>\n",
       "      <td>Norm</td>\n",
       "      <td>IR1</td>\n",
       "      <td>Gd</td>\n",
       "      <td>Gd</td>\n",
       "      <td>...</td>\n",
       "      <td>Y</td>\n",
       "      <td>Lvl</td>\n",
       "      <td>TA</td>\n",
       "      <td>1Fam</td>\n",
       "      <td>BrkFace</td>\n",
       "      <td>TA</td>\n",
       "      <td>RL</td>\n",
       "      <td>Y</td>\n",
       "      <td>2Story</td>\n",
       "      <td>TA</td>\n",
       "    </tr>\n",
       "    <tr>\n",
       "      <th>3</th>\n",
       "      <td>Pave</td>\n",
       "      <td>Norm</td>\n",
       "      <td>Gable</td>\n",
       "      <td>BrkTil</td>\n",
       "      <td>Gtl</td>\n",
       "      <td>AllPub</td>\n",
       "      <td>Norm</td>\n",
       "      <td>IR1</td>\n",
       "      <td>TA</td>\n",
       "      <td>Gd</td>\n",
       "      <td>...</td>\n",
       "      <td>Y</td>\n",
       "      <td>Lvl</td>\n",
       "      <td>TA</td>\n",
       "      <td>1Fam</td>\n",
       "      <td>None</td>\n",
       "      <td>Gd</td>\n",
       "      <td>RL</td>\n",
       "      <td>Y</td>\n",
       "      <td>2Story</td>\n",
       "      <td>TA</td>\n",
       "    </tr>\n",
       "    <tr>\n",
       "      <th>4</th>\n",
       "      <td>Pave</td>\n",
       "      <td>Norm</td>\n",
       "      <td>Gable</td>\n",
       "      <td>PConc</td>\n",
       "      <td>Gtl</td>\n",
       "      <td>AllPub</td>\n",
       "      <td>Norm</td>\n",
       "      <td>IR1</td>\n",
       "      <td>Gd</td>\n",
       "      <td>Gd</td>\n",
       "      <td>...</td>\n",
       "      <td>Y</td>\n",
       "      <td>Lvl</td>\n",
       "      <td>TA</td>\n",
       "      <td>1Fam</td>\n",
       "      <td>BrkFace</td>\n",
       "      <td>TA</td>\n",
       "      <td>RL</td>\n",
       "      <td>Y</td>\n",
       "      <td>2Story</td>\n",
       "      <td>TA</td>\n",
       "    </tr>\n",
       "    <tr>\n",
       "      <th>...</th>\n",
       "      <td>...</td>\n",
       "      <td>...</td>\n",
       "      <td>...</td>\n",
       "      <td>...</td>\n",
       "      <td>...</td>\n",
       "      <td>...</td>\n",
       "      <td>...</td>\n",
       "      <td>...</td>\n",
       "      <td>...</td>\n",
       "      <td>...</td>\n",
       "      <td>...</td>\n",
       "      <td>...</td>\n",
       "      <td>...</td>\n",
       "      <td>...</td>\n",
       "      <td>...</td>\n",
       "      <td>...</td>\n",
       "      <td>...</td>\n",
       "      <td>...</td>\n",
       "      <td>...</td>\n",
       "      <td>...</td>\n",
       "      <td>...</td>\n",
       "    </tr>\n",
       "    <tr>\n",
       "      <th>1455</th>\n",
       "      <td>Pave</td>\n",
       "      <td>Norm</td>\n",
       "      <td>Gable</td>\n",
       "      <td>PConc</td>\n",
       "      <td>Gtl</td>\n",
       "      <td>AllPub</td>\n",
       "      <td>Norm</td>\n",
       "      <td>Reg</td>\n",
       "      <td>TA</td>\n",
       "      <td>TA</td>\n",
       "      <td>...</td>\n",
       "      <td>Y</td>\n",
       "      <td>Lvl</td>\n",
       "      <td>TA</td>\n",
       "      <td>1Fam</td>\n",
       "      <td>None</td>\n",
       "      <td>TA</td>\n",
       "      <td>RL</td>\n",
       "      <td>Y</td>\n",
       "      <td>2Story</td>\n",
       "      <td>TA</td>\n",
       "    </tr>\n",
       "    <tr>\n",
       "      <th>1456</th>\n",
       "      <td>Pave</td>\n",
       "      <td>Norm</td>\n",
       "      <td>Gable</td>\n",
       "      <td>CBlock</td>\n",
       "      <td>Gtl</td>\n",
       "      <td>AllPub</td>\n",
       "      <td>Norm</td>\n",
       "      <td>Reg</td>\n",
       "      <td>TA</td>\n",
       "      <td>TA</td>\n",
       "      <td>...</td>\n",
       "      <td>Y</td>\n",
       "      <td>Lvl</td>\n",
       "      <td>TA</td>\n",
       "      <td>1Fam</td>\n",
       "      <td>Stone</td>\n",
       "      <td>TA</td>\n",
       "      <td>RL</td>\n",
       "      <td>Y</td>\n",
       "      <td>1Story</td>\n",
       "      <td>TA</td>\n",
       "    </tr>\n",
       "    <tr>\n",
       "      <th>1457</th>\n",
       "      <td>Pave</td>\n",
       "      <td>Norm</td>\n",
       "      <td>Gable</td>\n",
       "      <td>Stone</td>\n",
       "      <td>Gtl</td>\n",
       "      <td>AllPub</td>\n",
       "      <td>Norm</td>\n",
       "      <td>Reg</td>\n",
       "      <td>Ex</td>\n",
       "      <td>Gd</td>\n",
       "      <td>...</td>\n",
       "      <td>Y</td>\n",
       "      <td>Lvl</td>\n",
       "      <td>Gd</td>\n",
       "      <td>1Fam</td>\n",
       "      <td>None</td>\n",
       "      <td>Gd</td>\n",
       "      <td>RL</td>\n",
       "      <td>Y</td>\n",
       "      <td>2Story</td>\n",
       "      <td>TA</td>\n",
       "    </tr>\n",
       "    <tr>\n",
       "      <th>1458</th>\n",
       "      <td>Pave</td>\n",
       "      <td>Norm</td>\n",
       "      <td>Hip</td>\n",
       "      <td>CBlock</td>\n",
       "      <td>Gtl</td>\n",
       "      <td>AllPub</td>\n",
       "      <td>Norm</td>\n",
       "      <td>Reg</td>\n",
       "      <td>TA</td>\n",
       "      <td>Gd</td>\n",
       "      <td>...</td>\n",
       "      <td>Y</td>\n",
       "      <td>Lvl</td>\n",
       "      <td>TA</td>\n",
       "      <td>1Fam</td>\n",
       "      <td>None</td>\n",
       "      <td>NaN</td>\n",
       "      <td>RL</td>\n",
       "      <td>Y</td>\n",
       "      <td>1Story</td>\n",
       "      <td>TA</td>\n",
       "    </tr>\n",
       "    <tr>\n",
       "      <th>1459</th>\n",
       "      <td>Pave</td>\n",
       "      <td>Norm</td>\n",
       "      <td>Gable</td>\n",
       "      <td>CBlock</td>\n",
       "      <td>Gtl</td>\n",
       "      <td>AllPub</td>\n",
       "      <td>Norm</td>\n",
       "      <td>Reg</td>\n",
       "      <td>Gd</td>\n",
       "      <td>TA</td>\n",
       "      <td>...</td>\n",
       "      <td>Y</td>\n",
       "      <td>Lvl</td>\n",
       "      <td>TA</td>\n",
       "      <td>1Fam</td>\n",
       "      <td>None</td>\n",
       "      <td>NaN</td>\n",
       "      <td>RL</td>\n",
       "      <td>Y</td>\n",
       "      <td>1Story</td>\n",
       "      <td>TA</td>\n",
       "    </tr>\n",
       "  </tbody>\n",
       "</table>\n",
       "<p>1460 rows × 37 columns</p>\n",
       "</div>"
      ],
      "text/plain": [
       "     Street Condition1 RoofStyle Foundation LandSlope Utilities Condition2  \\\n",
       "0      Pave       Norm     Gable      PConc       Gtl    AllPub       Norm   \n",
       "1      Pave      Feedr     Gable     CBlock       Gtl    AllPub       Norm   \n",
       "2      Pave       Norm     Gable      PConc       Gtl    AllPub       Norm   \n",
       "3      Pave       Norm     Gable     BrkTil       Gtl    AllPub       Norm   \n",
       "4      Pave       Norm     Gable      PConc       Gtl    AllPub       Norm   \n",
       "...     ...        ...       ...        ...       ...       ...        ...   \n",
       "1455   Pave       Norm     Gable      PConc       Gtl    AllPub       Norm   \n",
       "1456   Pave       Norm     Gable     CBlock       Gtl    AllPub       Norm   \n",
       "1457   Pave       Norm     Gable      Stone       Gtl    AllPub       Norm   \n",
       "1458   Pave       Norm       Hip     CBlock       Gtl    AllPub       Norm   \n",
       "1459   Pave       Norm     Gable     CBlock       Gtl    AllPub       Norm   \n",
       "\n",
       "     LotShape ExterQual KitchenQual  ... PavedDrive LandContour ExterCond  \\\n",
       "0         Reg        Gd          Gd  ...          Y         Lvl        TA   \n",
       "1         Reg        TA          TA  ...          Y         Lvl        TA   \n",
       "2         IR1        Gd          Gd  ...          Y         Lvl        TA   \n",
       "3         IR1        TA          Gd  ...          Y         Lvl        TA   \n",
       "4         IR1        Gd          Gd  ...          Y         Lvl        TA   \n",
       "...       ...       ...         ...  ...        ...         ...       ...   \n",
       "1455      Reg        TA          TA  ...          Y         Lvl        TA   \n",
       "1456      Reg        TA          TA  ...          Y         Lvl        TA   \n",
       "1457      Reg        Ex          Gd  ...          Y         Lvl        Gd   \n",
       "1458      Reg        TA          Gd  ...          Y         Lvl        TA   \n",
       "1459      Reg        Gd          TA  ...          Y         Lvl        TA   \n",
       "\n",
       "     BldgType MasVnrType FireplaceQu MSZoning CentralAir HouseStyle GarageCond  \n",
       "0        1Fam    BrkFace         NaN       RL          Y     2Story         TA  \n",
       "1        1Fam       None          TA       RL          Y     1Story         TA  \n",
       "2        1Fam    BrkFace          TA       RL          Y     2Story         TA  \n",
       "3        1Fam       None          Gd       RL          Y     2Story         TA  \n",
       "4        1Fam    BrkFace          TA       RL          Y     2Story         TA  \n",
       "...       ...        ...         ...      ...        ...        ...        ...  \n",
       "1455     1Fam       None          TA       RL          Y     2Story         TA  \n",
       "1456     1Fam      Stone          TA       RL          Y     1Story         TA  \n",
       "1457     1Fam       None          Gd       RL          Y     2Story         TA  \n",
       "1458     1Fam       None         NaN       RL          Y     1Story         TA  \n",
       "1459     1Fam       None         NaN       RL          Y     1Story         TA  \n",
       "\n",
       "[1460 rows x 37 columns]"
      ]
     },
     "execution_count": 26,
     "metadata": {},
     "output_type": "execute_result"
    }
   ],
   "source": [
    "# The computer doesn't know how to read letters :)\n",
    "train[categ_cols]"
   ]
  },
  {
   "cell_type": "code",
   "execution_count": 27,
   "metadata": {},
   "outputs": [],
   "source": [
    "# Import OneHotEncoder from sklearn\n",
    "from sklearn.preprocessing import LabelEncoder\n",
    "from sklearn.preprocessing import OneHotEncoder"
   ]
  },
  {
   "cell_type": "code",
   "execution_count": 28,
   "metadata": {},
   "outputs": [],
   "source": [
    "# Create the imputation object\n",
    "c_mode_impute = SimpleImputer(strategy = 'most_frequent')\n",
    "# Create the encoder object\n",
    "encoder = OneHotEncoder(handle_unknown='ignore')"
   ]
  },
  {
   "cell_type": "code",
   "execution_count": 29,
   "metadata": {},
   "outputs": [],
   "source": [
    "# Make the Imputation\n",
    "for column in categ_cols:\n",
    "    train[column] = apply_imputation(c_mode_impute, column)[0]\n",
    "    test[column] = apply_imputation(c_mode_impute, column)[1]\n",
    "    \n",
    "\n",
    "# Perform One Hot Encoding\n",
    "encoded_train = pd.DataFrame(encoder.fit_transform(train[categ_cols]).toarray())\n",
    "encoded_test = pd.DataFrame(encoder.transform(test[categ_cols]).toarray())\n",
    "\n",
    "# Drop old columns and replace with encoded ones\n",
    "train.drop(columns=categ_cols, axis=1, inplace=True)\n",
    "test.drop(columns=categ_cols, axis=1, inplace=True)\n",
    "\n",
    "train = pd.concat([train, encoded_train], axis=1)\n",
    "test = pd.concat([test, encoded_test], axis=1)"
   ]
  },
  {
   "cell_type": "markdown",
   "metadata": {},
   "source": [
    "#  Model Training \n"
   ]
  },
  {
   "cell_type": "code",
   "execution_count": 30,
   "metadata": {},
   "outputs": [],
   "source": [
    "# Data Splitting\n",
    "from sklearn.model_selection import train_test_split\n",
    "\n",
    "\n",
    "from xgboost import XGBRegressor\n",
    "\n",
    "# Model Evaluation\n",
    "from sklearn.metrics import mean_absolute_error\n",
    "\n",
    "# Ignore warnings\n",
    "import warnings\n",
    "warnings.filterwarnings(\"ignore\", category=DeprecationWarning)\n",
    "warnings.filterwarnings(\"ignore\", category=UserWarning)\n",
    "warnings.filterwarnings(\"ignore\", category=FutureWarning)"
   ]
  },
  {
   "cell_type": "code",
   "execution_count": 31,
   "metadata": {},
   "outputs": [],
   "source": [
    "# train -> training data\n",
    "# test -> testing data (unlabeled)\n",
    "# y -> target variable (we stored it from the train data)\n",
    "\n",
    "# Target Variable: y\n",
    "# Features -> X\n",
    "X = train\n",
    "\n",
    "# Split data further\n",
    "X_train, X_valid, y_train, y_valid = train_test_split(X, y, test_size = 0.3, \n",
    "                                                      random_state = 0)"
   ]
  },
  {
   "cell_type": "markdown",
   "metadata": {},
   "source": [
    "\n",
    "\n",
    "### XGBoost\n",
    "\n"
   ]
  },
  {
   "cell_type": "code",
   "execution_count": 32,
   "metadata": {},
   "outputs": [
    {
     "name": "stdout",
     "output_type": "stream",
     "text": [
      "XGBoost: 18,382.576305650684\n"
     ]
    }
   ],
   "source": [
    "\n",
    "\n",
    "xgb_model = XGBRegressor(n_estimators=600)\n",
    "\n",
    "# Train the model on training data\n",
    "xgb_model.fit(X=X_train, y=y_train)\n",
    "\n",
    "# Predict on validation data\n",
    "predictions = xgb_model.predict(X_valid)\n",
    "\n",
    "# Get how well it performed\n",
    "mae_xgb = mean_absolute_error(y_valid, predictions)\n",
    "\n",
    "print(\"XGBoost: {:,}\".format(mae_xgb))"
   ]
  },
  {
   "cell_type": "markdown",
   "metadata": {},
   "source": [
    "# Hyper-Parameters"
   ]
  },
  {
   "cell_type": "code",
   "execution_count": 60,
   "metadata": {},
   "outputs": [],
   "source": [
    "import xgboost as xgb\n",
    "from xgboost import XGBRegressor\n",
    "from sklearn import model_selection, metrics\n",
    "from sklearn.model_selection import GridSearchCV"
   ]
  },
  {
   "cell_type": "code",
   "execution_count": null,
   "metadata": {},
   "outputs": [],
   "source": [
    "#Best Values\n",
    "xgb_model = XGBRegressor()\n",
    "#dictionaire of parameters to grid search\n",
    "param_test1 = { 'max_depth' : range(3, 10, 2), 'min_child_weight' : range(1, 6, 2)}\n",
    "\n",
    "gsearch1 = GridSearchCV(estimator= XGBRegressor(learning_rate =0.1, n_estimators=1000, \n",
    "                                                gamma=0, subsample=0.8, colsample_bytree=0.8, \n",
    "                                                nthread=4, scale_pos_weight=1, seed=27, objective='reg:squarederror'), \n",
    "                        param_grid = param_test1, cv=5)\n",
    "gsearch1.fit(X_train, y_train)\n",
    "\n",
    "#outputs\n",
    "print('Best params:', gsearch1.best_params_)\n",
    "print('Best estim:', gsearch1.best_estimator_)\n",
    "print('Best score:', gsearch1.best_score_)"
   ]
  },
  {
   "cell_type": "code",
   "execution_count": null,
   "metadata": {},
   "outputs": [],
   "source": [
    "#Optimum Values\n",
    "param_test2 = {'max_depth' : [3, 4, 5], 'min_child_weight' : [1]}\n",
    "\n",
    "gsearch2 = GridSearchCV(estimator= XGBRegressor(learning_rate =0.1, n_estimators=1000, \n",
    "                                                gamma=0, subsample=0.8, colsample_bytree=0.8, \n",
    "                                                nthread=4, scale_pos_weight=1, seed=27, objective='reg:squarederror'), \n",
    "                        param_grid = param_test2, cv=5)\n",
    "gsearch2.fit(X_train, y_train)\n",
    "\n",
    "print('Best params:', gsearch2.best_params_)\n",
    "print('Best estim:', gsearch2.best_estimator_)\n",
    "print('Best score:', gsearch2.best_score_)"
   ]
  },
  {
   "cell_type": "code",
   "execution_count": null,
   "metadata": {},
   "outputs": [],
   "source": [
    "param_test3 = {'gamma' : [i/10.0 for i in range(0,5)]}\n",
    "gsearch3 = GridSearchCV(estimator= XGBRegressor(base_score=0.5, booster='gbtree', colsample_bylevel=1, colsample_bynode=1, \n",
    "                                                colsample_bytree=0.8, gamma=0, importance_type='gain', learning_rate=0.1, \n",
    "                                                max_delta_step=0, max_depth=4, min_child_weight=1, missing=None, \n",
    "                                                n_estimators=1000, n_jobs=1, nthread=4, objective='reg:squarederror', random_state=0, \n",
    "                                                reg_alpha=0, reg_lambda=1, scale_pos_weight=1, seed=27, silent=None, \n",
    "                                                subsample=0.8, verbosity=1), \n",
    "                        param_grid = param_test3, cv=5)\n",
    "gsearch3.fit(X_train, y_train)\n",
    "\n",
    "print('Best params:', gsearch3.best_params_)\n",
    "print('Best estim:', gsearch3.best_estimator_)\n",
    "print('Best score:', gsearch3.best_score_)"
   ]
  },
  {
   "cell_type": "code",
   "execution_count": null,
   "metadata": {},
   "outputs": [],
   "source": [
    "# first try\n",
    "param_test4 = {'subsample' : [i/10.0 for i in range(6,10)], 'colsample_bytree' : [i/10.0 for i in range(6,10)]}\n",
    "gsearch4 = GridSearchCV(XGBRegressor(base_score=0.5, booster='gbtree', colsample_bylevel=1,\n",
    "                                     colsample_bynode=1, gamma=0.0,\n",
    "                                     importance_type='gain', learning_rate=0.1,\n",
    "                                     max_depth=4, min_child_weight=1, n_estimators=100,\n",
    "                                     n_jobs=1, nthread=4, objective='reg:squarederror', random_state=0,\n",
    "                                     reg_alpha=0, reg_lambda=1, seed=27,\n",
    "                                   verbosity=1),\n",
    "                       param_grid = param_test4, cv=5)\n",
    "gsearch4.fit(X_train, y_train)\n",
    "\n",
    "print('Best params:', gsearch4.best_params_)\n",
    "print('Best estim:', gsearch4.best_estimator_)\n",
    "print('Best score:', gsearch4.best_score_)\n",
    "\n",
    "# going deeper\n",
    "param_test5 = {'subsample' : [i/100.0 for i in range(60,80,5)], 'colsample_bytree' : [i/100.0 for i in range(70,90,5)]}\n",
    "gsearch5 = GridSearchCV(XGBRegressor(base_score=0.5, booster='gbtree', colsample_bylevel=1,\n",
    "                                     colsample_bynode=1, gamma=0.0,\n",
    "                                     importance_type='gain', learning_rate=0.1, max_delta_step=0,\n",
    "                                     max_depth=4, min_child_weight=1, missing=None, n_estimators=1000,\n",
    "                                     n_jobs=1, nthread=4, objective='reg:squarederror', random_state=0,\n",
    "                                     reg_alpha=0, reg_lambda=1, scale_pos_weight=1, seed=27,\n",
    "                                     silent=None, verbosity=1),\n",
    "                       param_grid = param_test5, cv=5)\n",
    "gsearch5.fit(X_train, y_train)\n",
    "\n",
    "print('Best params:', gsearch4.best_params_)\n",
    "print('Best estim:', gsearch4.best_estimator_)\n",
    "print('Best score:', gsearch4.best_score_)"
   ]
  },
  {
   "cell_type": "code",
   "execution_count": null,
   "metadata": {},
   "outputs": [],
   "source": [
    "# first try\n",
    "param_test6 = {'reg_alpha' : [1e-5, 1e-2, 0.1, 1, 100]}\n",
    "gsearch6 = GridSearchCV(XGBRegressor(base_score=0.5, booster='gbtree', colsample_bylevel=1,\n",
    "                                     colsample_bynode=1, colsample_bytree=0.7, gamma=0.0,\n",
    "                                     importance_type='gain', learning_rate=0.1, \n",
    "                                     max_depth=4, min_child_weight=1, missing=None, n_estimators=100,\n",
    "                                     n_jobs=1, nthread=4, objective='reg:squarederror', random_state=0,\n",
    "                                     reg_lambda=1, scale_pos_weight=1, seed=27, subsample=0.8, verbosity=1),\n",
    "                       param_grid = param_test6, cv=5)\n",
    "\n",
    "gsearch6.fit(x_train, y_train)\n",
    "\n",
    "print('Best params:', gsearch6.best_params_)\n",
    "print('Best estim:', gsearch6.best_estimator_)\n",
    "print('Best score:', gsearch6.best_score_)\n",
    "\n",
    "# going deeper :)\n",
    "param_test7 = {'reg_alpha' : [0.9, 1, 1.1]}\n",
    "gsearch7 = GridSearchCV(XGBRegressor(base_score=0.5, booster='gbtree', colsample_bylevel=1,\n",
    "                                     colsample_bynode=1, colsample_bytree=0.7, gamma=0.0,\n",
    "                                     importance_type='gain', learning_rate=0.1, max_delta_step=0,\n",
    "                                     max_depth=4, min_child_weight=1, missing=None, n_estimators=1000,\n",
    "                                     n_jobs=1, nthread=4, objective='reg:squarederror', random_state=0,\n",
    "                                     reg_lambda=1, scale_pos_weight=1, seed=27,\n",
    "                                     silent=None, subsample=0.8, verbosity=1),\n",
    "                       param_grid = param_test7, cv=5)\n",
    "\n",
    "gsearch7.fit(X_train, y_train)\n",
    "\n",
    "print('Best params:', gsearch7.best_params_)\n",
    "print('Best estim:', gsearch7.best_estimator_)\n",
    "print('Best score:', gsearch7.best_score_)"
   ]
  },
  {
   "cell_type": "markdown",
   "metadata": {},
   "source": [
    "# Gained Optimum values by the gridsearch"
   ]
  },
  {
   "cell_type": "code",
   "execution_count": 39,
   "metadata": {},
   "outputs": [
    {
     "data": {
      "text/html": [
       "<style>#sk-container-id-3 {color: black;background-color: white;}#sk-container-id-3 pre{padding: 0;}#sk-container-id-3 div.sk-toggleable {background-color: white;}#sk-container-id-3 label.sk-toggleable__label {cursor: pointer;display: block;width: 100%;margin-bottom: 0;padding: 0.3em;box-sizing: border-box;text-align: center;}#sk-container-id-3 label.sk-toggleable__label-arrow:before {content: \"▸\";float: left;margin-right: 0.25em;color: #696969;}#sk-container-id-3 label.sk-toggleable__label-arrow:hover:before {color: black;}#sk-container-id-3 div.sk-estimator:hover label.sk-toggleable__label-arrow:before {color: black;}#sk-container-id-3 div.sk-toggleable__content {max-height: 0;max-width: 0;overflow: hidden;text-align: left;background-color: #f0f8ff;}#sk-container-id-3 div.sk-toggleable__content pre {margin: 0.2em;color: black;border-radius: 0.25em;background-color: #f0f8ff;}#sk-container-id-3 input.sk-toggleable__control:checked~div.sk-toggleable__content {max-height: 200px;max-width: 100%;overflow: auto;}#sk-container-id-3 input.sk-toggleable__control:checked~label.sk-toggleable__label-arrow:before {content: \"▾\";}#sk-container-id-3 div.sk-estimator input.sk-toggleable__control:checked~label.sk-toggleable__label {background-color: #d4ebff;}#sk-container-id-3 div.sk-label input.sk-toggleable__control:checked~label.sk-toggleable__label {background-color: #d4ebff;}#sk-container-id-3 input.sk-hidden--visually {border: 0;clip: rect(1px 1px 1px 1px);clip: rect(1px, 1px, 1px, 1px);height: 1px;margin: -1px;overflow: hidden;padding: 0;position: absolute;width: 1px;}#sk-container-id-3 div.sk-estimator {font-family: monospace;background-color: #f0f8ff;border: 1px dotted black;border-radius: 0.25em;box-sizing: border-box;margin-bottom: 0.5em;}#sk-container-id-3 div.sk-estimator:hover {background-color: #d4ebff;}#sk-container-id-3 div.sk-parallel-item::after {content: \"\";width: 100%;border-bottom: 1px solid gray;flex-grow: 1;}#sk-container-id-3 div.sk-label:hover label.sk-toggleable__label {background-color: #d4ebff;}#sk-container-id-3 div.sk-serial::before {content: \"\";position: absolute;border-left: 1px solid gray;box-sizing: border-box;top: 0;bottom: 0;left: 50%;z-index: 0;}#sk-container-id-3 div.sk-serial {display: flex;flex-direction: column;align-items: center;background-color: white;padding-right: 0.2em;padding-left: 0.2em;position: relative;}#sk-container-id-3 div.sk-item {position: relative;z-index: 1;}#sk-container-id-3 div.sk-parallel {display: flex;align-items: stretch;justify-content: center;background-color: white;position: relative;}#sk-container-id-3 div.sk-item::before, #sk-container-id-3 div.sk-parallel-item::before {content: \"\";position: absolute;border-left: 1px solid gray;box-sizing: border-box;top: 0;bottom: 0;left: 50%;z-index: -1;}#sk-container-id-3 div.sk-parallel-item {display: flex;flex-direction: column;z-index: 1;position: relative;background-color: white;}#sk-container-id-3 div.sk-parallel-item:first-child::after {align-self: flex-end;width: 50%;}#sk-container-id-3 div.sk-parallel-item:last-child::after {align-self: flex-start;width: 50%;}#sk-container-id-3 div.sk-parallel-item:only-child::after {width: 0;}#sk-container-id-3 div.sk-dashed-wrapped {border: 1px dashed gray;margin: 0 0.4em 0.5em 0.4em;box-sizing: border-box;padding-bottom: 0.4em;background-color: white;}#sk-container-id-3 div.sk-label label {font-family: monospace;font-weight: bold;display: inline-block;line-height: 1.2em;}#sk-container-id-3 div.sk-label-container {text-align: center;}#sk-container-id-3 div.sk-container {/* jupyter's `normalize.less` sets `[hidden] { display: none; }` but bootstrap.min.css set `[hidden] { display: none !important; }` so we also need the `!important` here to be able to override the default hidden behavior on the sphinx rendered scikit-learn.org. See: https://github.com/scikit-learn/scikit-learn/issues/21755 */display: inline-block !important;position: relative;}#sk-container-id-3 div.sk-text-repr-fallback {display: none;}</style><div id=\"sk-container-id-3\" class=\"sk-top-container\"><div class=\"sk-text-repr-fallback\"><pre>XGBRegressor(base_score=0.5, booster=&#x27;gbtree&#x27;, callbacks=None,\n",
       "             colsample_bylevel=1, colsample_bynode=1, colsample_bytree=0.8,\n",
       "             early_stopping_rounds=None, enable_categorical=False,\n",
       "             eval_metric=None, gamma=0.0, gpu_id=-1, grow_policy=&#x27;depthwise&#x27;,\n",
       "             importance_type=&#x27;gain&#x27;, interaction_constraints=&#x27;&#x27;,\n",
       "             learning_rate=0.005, max_bin=256, max_cat_to_onehot=4,\n",
       "             max_delta_step=0, max_depth=4, max_leaves=0, min_child_weight=1,\n",
       "             missing=1, monotone_constraints=&#x27;()&#x27;, n_estimators=5000, n_jobs=1,\n",
       "             nthread=4, num_parallel_tree=1, predictor=&#x27;auto&#x27;, random_state=0,\n",
       "             reg_alpha=1, ...)</pre><b>In a Jupyter environment, please rerun this cell to show the HTML representation or trust the notebook. <br />On GitHub, the HTML representation is unable to render, please try loading this page with nbviewer.org.</b></div><div class=\"sk-container\" hidden><div class=\"sk-item\"><div class=\"sk-estimator sk-toggleable\"><input class=\"sk-toggleable__control sk-hidden--visually\" id=\"sk-estimator-id-3\" type=\"checkbox\" checked><label for=\"sk-estimator-id-3\" class=\"sk-toggleable__label sk-toggleable__label-arrow\">XGBRegressor</label><div class=\"sk-toggleable__content\"><pre>XGBRegressor(base_score=0.5, booster=&#x27;gbtree&#x27;, callbacks=None,\n",
       "             colsample_bylevel=1, colsample_bynode=1, colsample_bytree=0.8,\n",
       "             early_stopping_rounds=None, enable_categorical=False,\n",
       "             eval_metric=None, gamma=0.0, gpu_id=-1, grow_policy=&#x27;depthwise&#x27;,\n",
       "             importance_type=&#x27;gain&#x27;, interaction_constraints=&#x27;&#x27;,\n",
       "             learning_rate=0.005, max_bin=256, max_cat_to_onehot=4,\n",
       "             max_delta_step=0, max_depth=4, max_leaves=0, min_child_weight=1,\n",
       "             missing=1, monotone_constraints=&#x27;()&#x27;, n_estimators=5000, n_jobs=1,\n",
       "             nthread=4, num_parallel_tree=1, predictor=&#x27;auto&#x27;, random_state=0,\n",
       "             reg_alpha=1, ...)</pre></div></div></div></div></div>"
      ],
      "text/plain": [
       "XGBRegressor(base_score=0.5, booster='gbtree', callbacks=None,\n",
       "             colsample_bylevel=1, colsample_bynode=1, colsample_bytree=0.8,\n",
       "             early_stopping_rounds=None, enable_categorical=False,\n",
       "             eval_metric=None, gamma=0.0, gpu_id=-1, grow_policy='depthwise',\n",
       "             importance_type='gain', interaction_constraints='',\n",
       "             learning_rate=0.005, max_bin=256, max_cat_to_onehot=4,\n",
       "             max_delta_step=0, max_depth=4, max_leaves=0, min_child_weight=1,\n",
       "             missing=1, monotone_constraints='()', n_estimators=5000, n_jobs=1,\n",
       "             nthread=4, num_parallel_tree=1, predictor='auto', random_state=0,\n",
       "             reg_alpha=1, ...)"
      ]
     },
     "execution_count": 39,
     "metadata": {},
     "output_type": "execute_result"
    }
   ],
   "source": [
    "\n",
    "tuned_xgb = XGBRegressor(base_score=0.5, booster='gbtree', colsample_bylevel=1,\n",
    "                        colsample_bynode=1, colsample_bytree=0.8, gamma=0.0,\n",
    "                        importance_type='gain', learning_rate=0.005, \n",
    "                        max_delta_step=0, max_depth=4, min_child_weight=1, \n",
    "                        missing=1, n_estimators=1000, n_jobs=1, \n",
    "                        nthread=4, objective='reg:squarederror', random_state=0,\n",
    "                        reg_alpha=1, reg_lambda=1,  seed=27,\n",
    "                         subsample=0.8, verbosity=1)\n",
    "\n",
    "# Fit on the entire training data\n",
    "tuned_xgb.fit(X_train, y_train)"
   ]
  },
  {
   "cell_type": "code",
   "execution_count": 51,
   "metadata": {},
   "outputs": [],
   "source": [
    "# Predict and Submit\n",
    "pred = tuned_xgb.predict(X_valid)"
   ]
  },
  {
   "cell_type": "code",
   "execution_count": 67,
   "metadata": {},
   "outputs": [],
   "source": [
    "result = pd.DataFrame({'Actual':y_valid,\n",
    "              'Prediction':pred})\n",
    "              "
   ]
  },
  {
   "cell_type": "code",
   "execution_count": 68,
   "metadata": {},
   "outputs": [
    {
     "data": {
      "text/html": [
       "<div>\n",
       "<style scoped>\n",
       "    .dataframe tbody tr th:only-of-type {\n",
       "        vertical-align: middle;\n",
       "    }\n",
       "\n",
       "    .dataframe tbody tr th {\n",
       "        vertical-align: top;\n",
       "    }\n",
       "\n",
       "    .dataframe thead th {\n",
       "        text-align: right;\n",
       "    }\n",
       "</style>\n",
       "<table border=\"1\" class=\"dataframe\">\n",
       "  <thead>\n",
       "    <tr style=\"text-align: right;\">\n",
       "      <th></th>\n",
       "      <th>Actual</th>\n",
       "      <th>Prediction</th>\n",
       "    </tr>\n",
       "  </thead>\n",
       "  <tbody>\n",
       "    <tr>\n",
       "      <th>529</th>\n",
       "      <td>200624</td>\n",
       "      <td>236504.375000</td>\n",
       "    </tr>\n",
       "    <tr>\n",
       "      <th>491</th>\n",
       "      <td>133000</td>\n",
       "      <td>144687.906250</td>\n",
       "    </tr>\n",
       "    <tr>\n",
       "      <th>459</th>\n",
       "      <td>110000</td>\n",
       "      <td>108453.023438</td>\n",
       "    </tr>\n",
       "    <tr>\n",
       "      <th>279</th>\n",
       "      <td>192000</td>\n",
       "      <td>214274.593750</td>\n",
       "    </tr>\n",
       "    <tr>\n",
       "      <th>655</th>\n",
       "      <td>88000</td>\n",
       "      <td>88658.070312</td>\n",
       "    </tr>\n",
       "    <tr>\n",
       "      <th>...</th>\n",
       "      <td>...</td>\n",
       "      <td>...</td>\n",
       "    </tr>\n",
       "    <tr>\n",
       "      <th>271</th>\n",
       "      <td>241500</td>\n",
       "      <td>214266.781250</td>\n",
       "    </tr>\n",
       "    <tr>\n",
       "      <th>445</th>\n",
       "      <td>127500</td>\n",
       "      <td>149409.203125</td>\n",
       "    </tr>\n",
       "    <tr>\n",
       "      <th>654</th>\n",
       "      <td>350000</td>\n",
       "      <td>360509.187500</td>\n",
       "    </tr>\n",
       "    <tr>\n",
       "      <th>1280</th>\n",
       "      <td>227000</td>\n",
       "      <td>214147.390625</td>\n",
       "    </tr>\n",
       "    <tr>\n",
       "      <th>898</th>\n",
       "      <td>611657</td>\n",
       "      <td>429496.468750</td>\n",
       "    </tr>\n",
       "  </tbody>\n",
       "</table>\n",
       "<p>438 rows × 2 columns</p>\n",
       "</div>"
      ],
      "text/plain": [
       "      Actual     Prediction\n",
       "529   200624  236504.375000\n",
       "491   133000  144687.906250\n",
       "459   110000  108453.023438\n",
       "279   192000  214274.593750\n",
       "655    88000   88658.070312\n",
       "...      ...            ...\n",
       "271   241500  214266.781250\n",
       "445   127500  149409.203125\n",
       "654   350000  360509.187500\n",
       "1280  227000  214147.390625\n",
       "898   611657  429496.468750\n",
       "\n",
       "[438 rows x 2 columns]"
      ]
     },
     "execution_count": 68,
     "metadata": {},
     "output_type": "execute_result"
    }
   ],
   "source": [
    "result"
   ]
  },
  {
   "cell_type": "code",
   "execution_count": 71,
   "metadata": {},
   "outputs": [
    {
     "data": {
      "text/plain": [
       "<matplotlib.legend.Legend at 0x1f3433169a0>"
      ]
     },
     "execution_count": 71,
     "metadata": {},
     "output_type": "execute_result"
    },
    {
     "data": {
      "image/png": "[encoded data removed]",
      "text/plain": [
       "<Figure size 576x432 with 1 Axes>"
      ]
     },
     "metadata": {
      "needs_background": "light"
     },
     "output_type": "display_data"
    }
   ],
   "source": [
    "\n",
    "plt.figure(figsize=(8, 6))\n",
    "plt.scatter(result.Actual, result.Prediction, color='blue', label='Data points')\n",
    "\n",
    "# Add a trendline (diagonal line)\n",
    "plt.plot([min(result.Actual), max(result.Actual)], [min(result.Actual), max(result.Actual)], color='red', linestyle='--', linewidth=2, label='Trendline')\n",
    "\n",
    "# Add labels and title\n",
    "plt.xlabel('True Values')\n",
    "plt.ylabel('Predictions')\n",
    "plt.title('True Values vs. Predictions for Regression Model')\n",
    "plt.legend()\n",
    "\n",
    "# Display the "
   ]
  },
  {
   "cell_type": "code",
   "execution_count": null,
   "metadata": {},
   "outputs": [],
   "source": []
  }
 ],
 "metadata": {
  "kernelspec": {
   "display_name": "Python 3 (ipykernel)",
   "language": "python",
   "name": "python3"
  },
  "language_info": {
   "codemirror_mode": {
    "name": "ipython",
    "version": 3
   },
   "file_extension": ".py",
   "mimetype": "text/x-python",
   "name": "python",
   "nbconvert_exporter": "python",
   "pygments_lexer": "ipython3",
   "version": "3.10.9"
  }
 },
 "nbformat": 4,
 "nbformat_minor": 4
}
